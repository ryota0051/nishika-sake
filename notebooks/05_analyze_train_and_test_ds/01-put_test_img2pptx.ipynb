{
 "cells": [
  {
   "cell_type": "markdown",
   "id": "a525f03b-c3f7-4ba1-aa01-b31e52e83b54",
   "metadata": {},
   "source": [
    "## テスト画像をpptxに貼り付ける"
   ]
  },
  {
   "cell_type": "code",
   "execution_count": 1,
   "id": "f1664db6-ff15-4d95-a77c-62eec060f557",
   "metadata": {},
   "outputs": [],
   "source": [
    "from pptx import Presentation\n",
    "from tqdm import tqdm\n",
    "\n",
    "from src.data_handler import load_trainable_df\n",
    "from src.pptx_utils import (\n",
    "    add_slide,\n",
    "    add_picture,\n",
    "    add_text,\n",
    "    SLIDE_HEIGHT,\n",
    "    SLIDE_WIDTH\n",
    ")\n",
    "from src.const import OUTPUT_ROOT"
   ]
  },
  {
   "cell_type": "code",
   "execution_count": 2,
   "id": "64dca0ac-039a-45f7-b536-3a36de2fac1b",
   "metadata": {},
   "outputs": [],
   "source": [
    "DST = OUTPUT_ROOT / 'debugs' / 'test_imgs.pptx'"
   ]
  },
  {
   "cell_type": "code",
   "execution_count": 3,
   "id": "5d55e206-3d2c-4863-90c9-695f8b70aa0b",
   "metadata": {},
   "outputs": [],
   "source": [
    "(_, test_df, _, _) = load_trainable_df()"
   ]
  },
  {
   "cell_type": "code",
   "execution_count": 5,
   "id": "fd49262a-e03d-476a-8175-dc16ba8e2a3b",
   "metadata": {},
   "outputs": [
    {
     "name": "stderr",
     "output_type": "stream",
     "text": [
      "100% 2942/2942 [01:50<00:00, 26.68it/s]\n"
     ]
    }
   ],
   "source": [
    "prs = Presentation()\n",
    "#スライドサイズの指定\n",
    "prs.slide_width = SLIDE_WIDTH\n",
    "prs.slide_height = SLIDE_HEIGHT\n",
    "for _, row in tqdm(test_df.iterrows(), total=len(test_df)):\n",
    "    path = row['filepath']\n",
    "    slide = add_slide(prs)\n",
    "    add_picture(slide, path)\n",
    "    add_text(slide, f'gid={row[\"gid\"]}')\n",
    "#pptxファイルを出力する\n",
    "prs.save(str(DST))"
   ]
  },
  {
   "cell_type": "code",
   "execution_count": null,
   "id": "f58b041c-a850-49cb-9c8b-4f62a3cd13b1",
   "metadata": {},
   "outputs": [],
   "source": []
  }
 ],
 "metadata": {
  "kernelspec": {
   "display_name": "Python 3 (ipykernel)",
   "language": "python",
   "name": "python3"
  },
  "language_info": {
   "codemirror_mode": {
    "name": "ipython",
    "version": 3
   },
   "file_extension": ".py",
   "mimetype": "text/x-python",
   "name": "python",
   "nbconvert_exporter": "python",
   "pygments_lexer": "ipython3",
   "version": "3.10.11"
  }
 },
 "nbformat": 4,
 "nbformat_minor": 5
}
