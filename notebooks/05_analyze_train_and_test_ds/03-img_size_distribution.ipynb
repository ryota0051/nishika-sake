{
 "cells": [
  {
   "cell_type": "markdown",
   "id": "01ff030c-a4e9-4ef7-8818-3214a9425fb8",
   "metadata": {},
   "source": [
    "## 学習データの画像サイズ分布を調べる"
   ]
  },
  {
   "cell_type": "code",
   "execution_count": null,
   "id": "60f78118-e7c2-4bee-aabb-52dcb261c3c0",
   "metadata": {},
   "outputs": [],
   "source": []
  }
 ],
 "metadata": {
  "kernelspec": {
   "display_name": "Python 3 (ipykernel)",
   "language": "python",
   "name": "python3"
  },
  "language_info": {
   "codemirror_mode": {
    "name": "ipython",
    "version": 3
   },
   "file_extension": ".py",
   "mimetype": "text/x-python",
   "name": "python",
   "nbconvert_exporter": "python",
   "pygments_lexer": "ipython3",
   "version": "3.10.11"
  }
 },
 "nbformat": 4,
 "nbformat_minor": 5
}
